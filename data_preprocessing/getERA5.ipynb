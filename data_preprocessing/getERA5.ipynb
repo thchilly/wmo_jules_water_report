{
 "cells": [
  {
   "cell_type": "markdown",
   "metadata": {},
   "source": [
    "# Download the Latest ERA5 Datasets Using the Climate Data Store (CDS)\n",
    "\n",
    "The most up-to-date meteorological data used for running the JULES model are sourced from the [Climate Data Store (CDS)](https://cds-beta.climate.copernicus.eu/datasets/reanalysis-era5-single-levels) via the **CDS API**. This ensures that the simulations are based on high-quality reanalysis datasets with a consistent temporal and spatial resolution.\n",
    "\n",
    "### Meteorological Forcing Variables for JULES\n",
    "\n",
    "The following key meteorological forcing variables are required for running the **JULES** land surface model:\n",
    "\n",
    "- **tas**: Near-surface air temperature (2 meters above ground)\n",
    "- **tasrange**: Range between daily maximum and minimum temperature\n",
    "- **pr**: Total precipitation\n",
    "- **ps**: Surface pressure\n",
    "- **sfcWind**: Near-surface wind speed\n",
    "- **huss**: Near-surface specific humidity\n",
    "- **rsds**: Surface downwelling shortwave radiation\n",
    "- **rlds**: Surface downwelling longwave radiation\n",
    "\n",
    "### Methodology\n",
    "\n",
    "In total, 10 variables are retrieved from the **ERA5 single-level reanalysis** dataset at **hourly temporal resolution** and a horizontal resolution of **0.25° x 0.25°**. Some of these variables are used directly in the JULES model, meaninig that they only require  basic pre-processing, such as spatial aggregation and temporal remapping, to match the model's setup.\n",
    "\n",
    "#### Calculations and Derived Variables:\n",
    "\n",
    "Variables like tasrange, huss, hurs, and sfcwind had to be derived from other variables, as they are unavailable directly from ERA5.\n",
    "\n",
    "- **tasrange**: The difference between daily maximum temperature (**tasmax**) and daily minimum temperature (**tasmin**).\n",
    "- **huss** and **hurs**: Derived from near-surface dewpoint temperature (**dewptas**), surface pressure (**ps**), and near-surface air temperature (**tas**), using the equations described by **Buck (1981)** [[methodology](https://confluence.ecmwf.int/display/CKB/Near+surface+meteorological+variables+from+1979+to+2019+derived+from+bias-corrected+reanalysis+%28WFDE5%29%3A+Product+User+Guide#Nearsurfacemeteorologicalvariablesfrom1979to2019derivedfrombiascorrectedreanalysis(WFDE5):ProductUserGuide-references9)]. \n",
    "- **sfcWind**: Calculated from the eastward (**uas**) and northward (**vas**) near-surface wind components, using the formula:\n",
    "\n",
    "\\[\n",
    "sfcWind = \\sqrt{uas^2 + vas^2}\n",
    "\\]\n",
    "\n",
    "### ERA5 Variables and Corresponding ISIMIP Naming Convention\n",
    "\n",
    "Below is the list of the variables sourced from ERA5 and their corresponding ISIMIP naming conventions:\n",
    "\n",
    "| ERA5 Variable Name                              | ISIMIP Variable Name | Usage/Calculation                          |\n",
    "|-------------------------------------------------|----------------------|--------------------------------------------|\n",
    "| 2m_temperature                                  | **tas**               | Used directly for near-surface temperature |\n",
    "| maximum_2m_temperature_since_previous_post_processing | **tasmax**            | Used for calculating **tasrange**          |\n",
    "| minimum_2m_temperature_since_previous_post_processing | **tasmin**            | Used for calculating **tasrange**          |\n",
    "| 2m_dewpoint_temperature                         | **dewptas**           | Used for deriving **hurs** and **huss**    |\n",
    "| total_precipitation                             | **pr**                | Used directly for precipitation            |\n",
    "| surface_pressure                                | **ps**                | Used directly and for deriving **hurs** and **huss** |\n",
    "| surface_solar_radiation_downwards               | **rsds**              | Used directly for shortwave radiation      |\n",
    "| surface_thermal_radiation_downwards             | **rlds**              | Used directly for longwave radiation       |\n",
    "| 10m_u_component_of_wind                         | **uas**               | Used for calculating **sfcWind**           |\n",
    "| 10m_v_component_of_wind                         | **vas**               | Used for calculating **sfcWind**           |\n",
    "\n",
    "### Notes:\n",
    "- Variables such as **huss**, **hurs**, and **sfcWind** are not directly available in ERA5. They are calculated using other available ERA5 variables, following well-established equations.\n",
    "- The **tasrange** variable is calculated as the difference between **tasmax** (maximum temperature) and **tasmin** (minimum temperature) to provide an estimate of daily temperature variability.\n",
    "\n"
   ]
  },
  {
   "cell_type": "code",
   "execution_count": 1,
   "metadata": {},
   "outputs": [],
   "source": [
    "import cdsapi\n",
    "import os\n",
    "import time"
   ]
  },
  {
   "cell_type": "code",
   "execution_count": 2,
   "metadata": {},
   "outputs": [],
   "source": [
    "# Function to download ERA5 data with retry mechanism\n",
    "def download_era5_variable(download_dir, era5_var, isimip_var, years, retries=3, delay=300):\n",
    "    \"\"\"Download ERA5 data for a specific variable, with retries in case of failure.\n",
    "    \n",
    "    Parameters:\n",
    "    - era5_var: The ERA5 variable name\n",
    "    - isimip_var: The corresponding ISIMIP variable name (not used here, but could be useful for naming the output file)\n",
    "    - years: List of years to download (provided as a list of strings)\n",
    "    - retries: Number of retry attempts\n",
    "    - delay: Delay between retries (in seconds)\n",
    "    \"\"\"\n",
    "    \n",
    "    # Initialize the CDS API client\n",
    "    client = cdsapi.Client()\n",
    "\n",
    "    # Define the full path for the output file\n",
    "    output_file = os.path.join(download_dir, f\"{era5_var}_hourly_{years[0]}_{years[-1]}.nc\")\n",
    "\n",
    "    # Define the ERA5 dataset for download\n",
    "    dataset = \"reanalysis-era5-single-levels\"\n",
    "\n",
    "    # Prepare the CDS API request\n",
    "    request = {\n",
    "        'product_type': ['reanalysis'],\n",
    "        'variable': era5_var,\n",
    "        'year': years,\n",
    "        'month': ['01', '02', '03', '04', '05', '06', '07', '08', '09', '10', '11', '12'],\n",
    "        'day': ['01', '02', '03', '04', '05', '06', '07', '08', '09', '10', '11', '12', '13', '14', '15', '16', '17', '18', '19', '20', '21', '22', '23', '24', '25', '26', '27', '28', '29', '30', '31'],\n",
    "        'time': ['00:00', '01:00', '02:00', '03:00', '04:00', '05:00', '06:00', '07:00', '08:00', '09:00', '10:00', '11:00', '12:00', '13:00', '14:00', '15:00', '16:00', '17:00', '18:00', '19:00', '20:00', '21:00', '22:00', '23:00'],\n",
    "        'data_format': 'netcdf',\n",
    "        'download_format': 'unarchived'\n",
    "    }\n",
    "\n",
    "    attempt = 0\n",
    "    while attempt < retries:\n",
    "        try:\n",
    "            print(f\"Attempting to download {era5_var} [{isimip_var}] for {years}. Attempt {attempt + 1} of {retries}\")\n",
    "            client.retrieve(dataset, request).download(output_file)\n",
    "            print(f\"Download successful: {output_file}\")\n",
    "            break\n",
    "        except Exception as e:\n",
    "            attempt += 1\n",
    "            print(f\"Error downloading {era5_var}: {e}\")\n",
    "            if attempt < retries:\n",
    "                print(f\"Retrying in {delay} seconds...\")\n",
    "                time.sleep(delay)\n",
    "            else:\n",
    "                print(f\"Failed to download {era5_var} after {retries} attempts.\")\n",
    "                return False\n",
    "    return True\n"
   ]
  },
  {
   "cell_type": "code",
   "execution_count": 3,
   "metadata": {},
   "outputs": [],
   "source": [
    "# Define the download directory\n",
    "download_dir = 'V:/ERA5_data'\n",
    "\n",
    "# Ensure the directory exists\n",
    "if not os.path.exists(download_dir):\n",
    "    os.makedirs(download_dir)\n",
    "\n",
    "# Define year of interest\n",
    "years_to_download = ['2022', '2023', '2024']\n",
    "\n",
    "# Dictionary of variables to download\n",
    "var_dict = {'tas':'2m_temperature',\n",
    "            'tasmin':'minimum_2m_temperature_since_previous_post_processing',\n",
    "            'tasmax':'maximum_2m_temperature_since_previous_post_processing',\n",
    "            'dewptas':'2m_dewpoint_temperature',\n",
    "            'pr':'total_precipitation',\n",
    "            'ps':'surface_pressure',\n",
    "            'uas':'10m_u_component_of_wind',\n",
    "            'vas':'10m_v_component_of_wind',\n",
    "            'rsds':'surface_solar_radiation_downwards',\n",
    "            'rlds':'surface_thermal_radiation_downwards',\n",
    "}"
   ]
  },
  {
   "cell_type": "code",
   "execution_count": 5,
   "metadata": {},
   "outputs": [
    {
     "name": "stdout",
     "output_type": "stream",
     "text": [
      "Attempting to download minimum_2m_temperature_since_previous_post_processing for ['2022', '2023', '2024']. Attempt 1 of 3\n"
     ]
    },
    {
     "name": "stderr",
     "output_type": "stream",
     "text": [
      "2024-09-06 17:15:59,432 INFO Request ID is f521f56d-2f78-4dbe-9ad6-d3cc2bce6b52\n",
      "2024-09-06 17:15:59,532 INFO status has been updated to accepted\n",
      "2024-09-06 17:50:19,847 INFO status has been updated to running\n",
      "2024-09-06 20:10:31,653 INFO status has been updated to accepted\n",
      "2024-09-06 20:12:31,796 INFO status has been updated to running\n",
      "2024-09-06 20:26:32,866 INFO Creating download object as as_source with files:\n",
      "['data_stream-oper.nc']\n",
      "2024-09-06 22:02:40,579 INFO Creating download object as as_source with files:\n",
      "['data_stream-oper.nc']\n",
      "2024-09-06 22:34:43,176 INFO status has been updated to successful\n",
      "                                                                                           \r"
     ]
    },
    {
     "name": "stdout",
     "output_type": "stream",
     "text": [
      "Download successful: V:/ERA5_data\\tasmin_hourly_2022_2024.nc\n",
      "Completed download for tasmin.\n",
      "Attempting to download maximum_2m_temperature_since_previous_post_processing for ['2022', '2023', '2024']. Attempt 1 of 3\n"
     ]
    },
    {
     "name": "stderr",
     "output_type": "stream",
     "text": [
      "2024-09-06 22:51:11,426 INFO Request ID is 60f3bdae-1315-432d-8556-7cbce7614ce5\n",
      "2024-09-06 22:51:11,492 INFO status has been updated to accepted\n",
      "2024-09-06 22:54:02,200 INFO status has been updated to running\n",
      "2024-09-07 00:35:36,828 INFO Creating download object as as_source with files:\n",
      "['data_stream-oper.nc']\n",
      "2024-09-07 00:59:38,771 INFO status has been updated to successful\n",
      "                                                                                           \r"
     ]
    },
    {
     "name": "stdout",
     "output_type": "stream",
     "text": [
      "Download successful: V:/ERA5_data\\tasmax_hourly_2022_2024.nc\n",
      "Completed download for tasmax.\n",
      "Attempting to download 2m_dewpoint_temperature for ['2022', '2023', '2024']. Attempt 1 of 3\n"
     ]
    },
    {
     "name": "stderr",
     "output_type": "stream",
     "text": [
      "2024-09-07 01:47:28,857 INFO Request ID is 7ca210c2-cc33-4025-bb1d-f9b5ca4172fb\n",
      "2024-09-07 01:47:28,939 INFO status has been updated to accepted\n",
      "2024-09-07 01:48:00,480 INFO status has been updated to running\n",
      "2024-09-07 03:21:53,482 INFO Creating download object as as_source with files:\n",
      "['data_stream-oper.nc']\n",
      "2024-09-07 03:57:56,328 INFO status has been updated to successful\n",
      "                                                                                           \r"
     ]
    },
    {
     "name": "stdout",
     "output_type": "stream",
     "text": [
      "Download successful: V:/ERA5_data\\dewptas_hourly_2022_2024.nc\n",
      "Completed download for dewptas.\n",
      "Attempting to download total_precipitation for ['2022', '2023', '2024']. Attempt 1 of 3\n"
     ]
    },
    {
     "name": "stderr",
     "output_type": "stream",
     "text": [
      "2024-09-07 04:27:53,052 INFO Request ID is 5febd150-15f7-4f22-b5d8-0f5f97fe55b0\n",
      "2024-09-07 04:27:53,120 INFO status has been updated to accepted\n",
      "2024-09-07 04:27:56,995 INFO status has been updated to running\n",
      "2024-09-07 06:40:20,520 INFO Creating download object as as_source with files:\n",
      "['data_stream-oper.nc']\n",
      "2024-09-07 06:58:21,934 INFO status has been updated to successful\n",
      "                                                                                           \r"
     ]
    },
    {
     "name": "stdout",
     "output_type": "stream",
     "text": [
      "Download successful: V:/ERA5_data\\pr_hourly_2022_2024.nc\n",
      "Completed download for pr.\n",
      "Attempting to download surface_solar_radiation_downwards for ['2022', '2023', '2024']. Attempt 1 of 3\n"
     ]
    },
    {
     "name": "stderr",
     "output_type": "stream",
     "text": [
      "2024-09-07 07:10:35,990 INFO Request ID is be2eef4f-73fe-43ff-b3c1-ca11d9b4682d\n",
      "2024-09-07 07:10:36,060 INFO status has been updated to accepted\n",
      "2024-09-07 07:11:24,801 INFO status has been updated to running\n",
      "2024-09-07 09:25:03,344 INFO Creating download object as as_source with files:\n",
      "['data_stream-oper.nc']\n",
      "2024-09-07 09:41:04,532 INFO status has been updated to successful\n",
      "                                                                                           \r"
     ]
    },
    {
     "name": "stdout",
     "output_type": "stream",
     "text": [
      "Download successful: V:/ERA5_data\\rsds_hourly_2022_2024.nc\n",
      "Completed download for rsds.\n",
      "Attempting to download surface_thermal_radiation_downwards for ['2022', '2023', '2024']. Attempt 1 of 3\n"
     ]
    },
    {
     "name": "stderr",
     "output_type": "stream",
     "text": [
      "2024-09-07 10:10:10,736 INFO Request ID is 6c7b8982-672e-4105-ba89-e526ea894ee5\n",
      "2024-09-07 10:10:10,803 INFO status has been updated to accepted\n",
      "2024-09-07 10:10:12,401 INFO status has been updated to running\n",
      "2024-09-07 12:34:38,461 INFO Creating download object as as_source with files:\n",
      "['data_stream-oper.nc']\n",
      "2024-09-07 13:10:41,163 INFO status has been updated to successful\n",
      "                                                                                           "
     ]
    },
    {
     "name": "stdout",
     "output_type": "stream",
     "text": [
      "Download successful: V:/ERA5_data\\rlds_hourly_2022_2024.nc\n",
      "Completed download for rlds.\n"
     ]
    },
    {
     "name": "stderr",
     "output_type": "stream",
     "text": [
      "\r"
     ]
    }
   ],
   "source": [
    "# Main loop to download each variable\n",
    "for isimip_var, era5_var in var_dict.items():\n",
    "    success = download_era5_variable(download_dir, era5_var, isimip_var, years_to_download)\n",
    "    if not success:\n",
    "        print(f\"Skipping {isimip_var} due to repeated failures.\")\n",
    "    else:\n",
    "        print(f\"Completed download for {isimip_var}.\")"
   ]
  }
 ],
 "metadata": {
  "kernelspec": {
   "display_name": "sci-python311",
   "language": "python",
   "name": "python3"
  },
  "language_info": {
   "codemirror_mode": {
    "name": "ipython",
    "version": 3
   },
   "file_extension": ".py",
   "mimetype": "text/x-python",
   "name": "python",
   "nbconvert_exporter": "python",
   "pygments_lexer": "ipython3",
   "version": "3.11.8"
  }
 },
 "nbformat": 4,
 "nbformat_minor": 2
}
